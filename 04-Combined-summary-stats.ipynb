{
 "cells": [
  {
   "cell_type": "code",
   "execution_count": 1,
   "metadata": {
    "vscode": {
     "languageId": "r"
    }
   },
   "outputs": [
    {
     "name": "stderr",
     "output_type": "stream",
     "text": [
      "Warning message in library(package, lib.loc = lib.loc, character.only = TRUE, logical.return = TRUE, :\n",
      "\"there is no package called 'viridis'\"\n"
     ]
    }
   ],
   "source": [
    "suppressMessages({\n",
    "    require(plyr)\n",
    "    require(tidyverse)\n",
    "    require(data.table)\n",
    "    require(readxl)\n",
    "    require(viridis)\n",
    "    require(ggplot2)\n",
    "    require(yaml)\n",
    "    require(cowplot)\n",
    "    require(lubridate)\n",
    "})\n",
    "\n",
    "options(repr.plot.res=224)"
   ]
  },
  {
   "cell_type": "code",
   "execution_count": 2,
   "metadata": {
    "vscode": {
     "languageId": "r"
    }
   },
   "outputs": [
    {
     "name": "stdout",
     "output_type": "stream",
     "text": [
      "Classes 'data.table' and 'data.frame':\t260 obs. of  23 variables:\n",
      " $ date_range                              : chr  \"03 August 2020 to 09 August 2020\" \"07 August 2020 to 13 August 2020\" \"14 August 2020 to 20 August 2020\" \"19 August 2020 to 25 August 2020\" ...\n",
      " $ est_pct_positive                        : num  0.05 0.05 0.05 0.05 0.07 0.11 0.19 0.21 0.41 0.62 ...\n",
      " $ est_pct_positive_ci95_lo                : num  0.03 0.03 0.04 0.04 0.05 0.09 0.16 0.18 0.37 0.57 ...\n",
      " $ est_pct_positive_ci95_hi                : num  0.07 0.06 0.07 0.07 0.1 0.14 0.23 0.24 0.45 0.66 ...\n",
      " $ est_pop_positive                        : num  28300 24600 28200 27100 39700 ...\n",
      " $ est_pop_positive_ci95_lo                : num  19000 16900 20100 19300 29300 ...\n",
      " $ est_pop_positive_ci95_hi                : num  40700 33800 37900 36700 52700 ...\n",
      " $ est_ratio_positive                      : chr  \"1 in 2,000\" \"1 in 2,200\" \"1 in 1,900\" \"1 in 2,000\" ...\n",
      " $ est_ratio_positive_ci95_lo              : chr  \"1 in 3,300\" \"1 in 3,400\" \"1 in 2,800\" \"1 in 2,800\" ...\n",
      " $ est_ratio_positive_ci95_hi              : chr  \"1 in 1,400\" \"1 in 1,600\" \"1 in 1,300\" \"1 in 1,500\" ...\n",
      " $ date_lo                                 : Date, format: \"2020-08-03\" \"2020-08-07\" ...\n",
      " $ date_hi                                 : Date, format: \"2020-08-09\" \"2020-08-13\" ...\n",
      " $ date                                    : Date, format: \"2020-08-07\" \"2020-08-14\" ...\n",
      " $ community_onset_adm_count               : num  285 297 247 253 319 ...\n",
      " $ total_covid_adm_count                   : num  411 410 331 335 415 ...\n",
      " $ hospital_onset_adm_count                : num  126 113 84 82 96 189 246 299 405 710 ...\n",
      " $ hospital_onset_ratio                    : num  0.307 0.276 0.254 0.245 0.231 ...\n",
      " $ hospital_onset_vs_comm_ratio            : num  0.442 0.38 0.34 0.324 0.301 ...\n",
      " $ hospital_onset_vs_comm_positivity       : num  2520 2260 1680 1640 1371 ...\n",
      " $ hospital_onset_vs_comm_positives        : num  0.00445 0.00459 0.00298 0.00303 0.00242 ...\n",
      " $ hospital_onset_vs_comm_positives_ci95_hi: num  0.00663 0.00669 0.00418 0.00425 0.00328 ...\n",
      " $ hospital_onset_vs_comm_positives_ci95_lo: num  0.0031 0.00334 0.00222 0.00223 0.00182 ...\n",
      " $ region                                  : Factor w/ 2 levels \"England\",\"Scotland\": 1 1 1 1 1 1 1 1 1 1 ...\n",
      " - attr(*, \".internal.selfref\")=<externalptr> \n"
     ]
    }
   ],
   "source": [
    "dt.england <- readRDS(file=\"data/dt.england.rds\")\n",
    "dt.scotland <- readRDS(file=\"data/dt.scotland.rds\")\n",
    "dt.all <- rbind(dt.england, dt.scotland)\n",
    "dt.all[, region := factor(region)]\n",
    "str(dt.all)"
   ]
  },
  {
   "cell_type": "code",
   "execution_count": 3,
   "metadata": {
    "vscode": {
     "languageId": "r"
    }
   },
   "outputs": [
    {
     "data": {
      "text/html": [
       "<time datetime=\"2022-12-09\">2022-12-09</time>"
      ],
      "text/latex": [
       "2022-12-09"
      ],
      "text/markdown": [
       "2022-12-09"
      ],
      "text/plain": [
       "[1] \"2022-12-09\""
      ]
     },
     "metadata": {},
     "output_type": "display_data"
    }
   ],
   "source": [
    "date_study_start <- as.Date('2021-07-01')\n",
    "date_study_end <- as.Date('2022-12-16')\n",
    "date_omicron_takeover <- as.Date(\"2021-12-14\")\n",
    "last_ons_date <- max(dt.all$date_hi)\n",
    "last_ons_date"
   ]
  },
  {
   "cell_type": "code",
   "execution_count": 4,
   "metadata": {
    "vscode": {
     "languageId": "r"
    }
   },
   "outputs": [
    {
     "data": {
      "text/html": [
       "<table class=\"dataframe\">\n",
       "<caption>A data.table: 2 × 2</caption>\n",
       "<thead>\n",
       "\t<tr><th scope=col>region</th><th scope=col>stop_date</th></tr>\n",
       "\t<tr><th scope=col>&lt;fct&gt;</th><th scope=col>&lt;date&gt;</th></tr>\n",
       "</thead>\n",
       "<tbody>\n",
       "\t<tr><td>England </td><td>2022-08-31</td></tr>\n",
       "\t<tr><td>Scotland</td><td>2022-09-28</td></tr>\n",
       "</tbody>\n",
       "</table>\n"
      ],
      "text/latex": [
       "A data.table: 2 × 2\n",
       "\\begin{tabular}{ll}\n",
       " region & stop\\_date\\\\\n",
       " <fct> & <date>\\\\\n",
       "\\hline\n",
       "\t England  & 2022-08-31\\\\\n",
       "\t Scotland & 2022-09-28\\\\\n",
       "\\end{tabular}\n"
      ],
      "text/markdown": [
       "\n",
       "A data.table: 2 × 2\n",
       "\n",
       "| region &lt;fct&gt; | stop_date &lt;date&gt; |\n",
       "|---|---|\n",
       "| England  | 2022-08-31 |\n",
       "| Scotland | 2022-09-28 |\n",
       "\n"
      ],
      "text/plain": [
       "  region   stop_date \n",
       "1 England  2022-08-31\n",
       "2 Scotland 2022-09-28"
      ]
     },
     "metadata": {},
     "output_type": "display_data"
    }
   ],
   "source": [
    "dt.asx_test_stopped <- data.table(\n",
    "    region = factor(c(\"England\", \"Scotland\")),\n",
    "    stop_date = as.Date(c(\"2022-08-31\", \"2022-09-28\"))\n",
    ")\n",
    "stop_dates <- dt.asx_test_stopped$stop_date\n",
    "names(stop_dates) <- dt.asx_test_stopped$region\n",
    "dt.asx_test_stopped "
   ]
  },
  {
   "cell_type": "code",
   "execution_count": 5,
   "metadata": {
    "vscode": {
     "languageId": "r"
    }
   },
   "outputs": [
    {
     "data": {
      "text/html": [
       "153"
      ],
      "text/latex": [
       "153"
      ],
      "text/markdown": [
       "153"
      ],
      "text/plain": [
       "[1] 153"
      ]
     },
     "metadata": {},
     "output_type": "display_data"
    }
   ],
   "source": [
    "dt.study_period <- dt.all[date >= date_study_start & date <= date_study_end, ]\n",
    "nrow(dt.study_period)"
   ]
  },
  {
   "cell_type": "code",
   "execution_count": 6,
   "metadata": {
    "vscode": {
     "languageId": "r"
    }
   },
   "outputs": [
    {
     "data": {
      "text/html": [
       "<table class=\"dataframe\">\n",
       "<caption>A data.table: 16 × 4</caption>\n",
       "<thead>\n",
       "\t<tr><th scope=col>date</th><th scope=col>region</th><th scope=col>omicron_dominant</th><th scope=col>testing_stopped</th></tr>\n",
       "\t<tr><th scope=col>&lt;date&gt;</th><th scope=col>&lt;fct&gt;</th><th scope=col>&lt;lgl&gt;</th><th scope=col>&lt;lgl&gt;</th></tr>\n",
       "</thead>\n",
       "<tbody>\n",
       "\t<tr><td>2021-07-02</td><td>England </td><td>FALSE</td><td>FALSE</td></tr>\n",
       "\t<tr><td>2021-09-10</td><td>England </td><td>FALSE</td><td>FALSE</td></tr>\n",
       "\t<tr><td>2021-11-19</td><td>England </td><td>FALSE</td><td>FALSE</td></tr>\n",
       "\t<tr><td>2022-01-28</td><td>England </td><td> TRUE</td><td>FALSE</td></tr>\n",
       "\t<tr><td>2022-04-08</td><td>England </td><td> TRUE</td><td>FALSE</td></tr>\n",
       "\t<tr><td>2022-06-17</td><td>England </td><td> TRUE</td><td>FALSE</td></tr>\n",
       "\t<tr><td>2022-08-26</td><td>England </td><td> TRUE</td><td>FALSE</td></tr>\n",
       "\t<tr><td>2022-11-04</td><td>England </td><td> TRUE</td><td> TRUE</td></tr>\n",
       "\t<tr><td>2021-07-25</td><td>Scotland</td><td>FALSE</td><td>FALSE</td></tr>\n",
       "\t<tr><td>2021-10-03</td><td>Scotland</td><td>FALSE</td><td>FALSE</td></tr>\n",
       "\t<tr><td>2021-12-12</td><td>Scotland</td><td>FALSE</td><td>FALSE</td></tr>\n",
       "\t<tr><td>2022-02-20</td><td>Scotland</td><td> TRUE</td><td>FALSE</td></tr>\n",
       "\t<tr><td>2022-05-01</td><td>Scotland</td><td> TRUE</td><td>FALSE</td></tr>\n",
       "\t<tr><td>2022-07-10</td><td>Scotland</td><td> TRUE</td><td>FALSE</td></tr>\n",
       "\t<tr><td>2022-09-18</td><td>Scotland</td><td> TRUE</td><td>FALSE</td></tr>\n",
       "\t<tr><td>2022-11-27</td><td>Scotland</td><td> TRUE</td><td> TRUE</td></tr>\n",
       "</tbody>\n",
       "</table>\n"
      ],
      "text/latex": [
       "A data.table: 16 × 4\n",
       "\\begin{tabular}{llll}\n",
       " date & region & omicron\\_dominant & testing\\_stopped\\\\\n",
       " <date> & <fct> & <lgl> & <lgl>\\\\\n",
       "\\hline\n",
       "\t 2021-07-02 & England  & FALSE & FALSE\\\\\n",
       "\t 2021-09-10 & England  & FALSE & FALSE\\\\\n",
       "\t 2021-11-19 & England  & FALSE & FALSE\\\\\n",
       "\t 2022-01-28 & England  &  TRUE & FALSE\\\\\n",
       "\t 2022-04-08 & England  &  TRUE & FALSE\\\\\n",
       "\t 2022-06-17 & England  &  TRUE & FALSE\\\\\n",
       "\t 2022-08-26 & England  &  TRUE & FALSE\\\\\n",
       "\t 2022-11-04 & England  &  TRUE &  TRUE\\\\\n",
       "\t 2021-07-25 & Scotland & FALSE & FALSE\\\\\n",
       "\t 2021-10-03 & Scotland & FALSE & FALSE\\\\\n",
       "\t 2021-12-12 & Scotland & FALSE & FALSE\\\\\n",
       "\t 2022-02-20 & Scotland &  TRUE & FALSE\\\\\n",
       "\t 2022-05-01 & Scotland &  TRUE & FALSE\\\\\n",
       "\t 2022-07-10 & Scotland &  TRUE & FALSE\\\\\n",
       "\t 2022-09-18 & Scotland &  TRUE & FALSE\\\\\n",
       "\t 2022-11-27 & Scotland &  TRUE &  TRUE\\\\\n",
       "\\end{tabular}\n"
      ],
      "text/markdown": [
       "\n",
       "A data.table: 16 × 4\n",
       "\n",
       "| date &lt;date&gt; | region &lt;fct&gt; | omicron_dominant &lt;lgl&gt; | testing_stopped &lt;lgl&gt; |\n",
       "|---|---|---|---|\n",
       "| 2021-07-02 | England  | FALSE | FALSE |\n",
       "| 2021-09-10 | England  | FALSE | FALSE |\n",
       "| 2021-11-19 | England  | FALSE | FALSE |\n",
       "| 2022-01-28 | England  |  TRUE | FALSE |\n",
       "| 2022-04-08 | England  |  TRUE | FALSE |\n",
       "| 2022-06-17 | England  |  TRUE | FALSE |\n",
       "| 2022-08-26 | England  |  TRUE | FALSE |\n",
       "| 2022-11-04 | England  |  TRUE |  TRUE |\n",
       "| 2021-07-25 | Scotland | FALSE | FALSE |\n",
       "| 2021-10-03 | Scotland | FALSE | FALSE |\n",
       "| 2021-12-12 | Scotland | FALSE | FALSE |\n",
       "| 2022-02-20 | Scotland |  TRUE | FALSE |\n",
       "| 2022-05-01 | Scotland |  TRUE | FALSE |\n",
       "| 2022-07-10 | Scotland |  TRUE | FALSE |\n",
       "| 2022-09-18 | Scotland |  TRUE | FALSE |\n",
       "| 2022-11-27 | Scotland |  TRUE |  TRUE |\n",
       "\n"
      ],
      "text/plain": [
       "   date       region   omicron_dominant testing_stopped\n",
       "1  2021-07-02 England  FALSE            FALSE          \n",
       "2  2021-09-10 England  FALSE            FALSE          \n",
       "3  2021-11-19 England  FALSE            FALSE          \n",
       "4  2022-01-28 England   TRUE            FALSE          \n",
       "5  2022-04-08 England   TRUE            FALSE          \n",
       "6  2022-06-17 England   TRUE            FALSE          \n",
       "7  2022-08-26 England   TRUE            FALSE          \n",
       "8  2022-11-04 England   TRUE             TRUE          \n",
       "9  2021-07-25 Scotland FALSE            FALSE          \n",
       "10 2021-10-03 Scotland FALSE            FALSE          \n",
       "11 2021-12-12 Scotland FALSE            FALSE          \n",
       "12 2022-02-20 Scotland  TRUE            FALSE          \n",
       "13 2022-05-01 Scotland  TRUE            FALSE          \n",
       "14 2022-07-10 Scotland  TRUE            FALSE          \n",
       "15 2022-09-18 Scotland  TRUE            FALSE          \n",
       "16 2022-11-27 Scotland  TRUE             TRUE          "
      ]
     },
     "metadata": {},
     "output_type": "display_data"
    }
   ],
   "source": [
    "dt.study_period[, omicron_dominant := date > date_omicron_takeover]\n",
    "dt.study_period[, testing_stopped := date > stop_dates[region]]\n",
    "dt.study_period[seq(1, nrow(dt.study_period), 10), .(date, region, omicron_dominant, testing_stopped)]"
   ]
  },
  {
   "cell_type": "code",
   "execution_count": 7,
   "metadata": {
    "vscode": {
     "languageId": "r"
    }
   },
   "outputs": [
    {
     "data": {
      "text/html": [
       "<table class=\"dataframe\">\n",
       "<caption>A data.table: 2 × 5</caption>\n",
       "<thead>\n",
       "\t<tr><th scope=col>region</th><th scope=col>sum.hospital_onset_adm_count</th><th scope=col>sum.community_onset_adm_count</th><th scope=col>sum.total_covid_adm_count</th><th scope=col>ratio.hoco</th></tr>\n",
       "\t<tr><th scope=col>&lt;fct&gt;</th><th scope=col>&lt;dbl&gt;</th><th scope=col>&lt;dbl&gt;</th><th scope=col>&lt;dbl&gt;</th><th scope=col>&lt;dbl&gt;</th></tr>\n",
       "</thead>\n",
       "<tbody>\n",
       "\t<tr><td>England </td><td>120115</td><td>398264</td><td>518379</td><td>0.3015964</td></tr>\n",
       "\t<tr><td>Scotland</td><td> 12335</td><td> 34196</td><td> 46531</td><td>0.3607147</td></tr>\n",
       "</tbody>\n",
       "</table>\n"
      ],
      "text/latex": [
       "A data.table: 2 × 5\n",
       "\\begin{tabular}{lllll}\n",
       " region & sum.hospital\\_onset\\_adm\\_count & sum.community\\_onset\\_adm\\_count & sum.total\\_covid\\_adm\\_count & ratio.hoco\\\\\n",
       " <fct> & <dbl> & <dbl> & <dbl> & <dbl>\\\\\n",
       "\\hline\n",
       "\t England  & 120115 & 398264 & 518379 & 0.3015964\\\\\n",
       "\t Scotland &  12335 &  34196 &  46531 & 0.3607147\\\\\n",
       "\\end{tabular}\n"
      ],
      "text/markdown": [
       "\n",
       "A data.table: 2 × 5\n",
       "\n",
       "| region &lt;fct&gt; | sum.hospital_onset_adm_count &lt;dbl&gt; | sum.community_onset_adm_count &lt;dbl&gt; | sum.total_covid_adm_count &lt;dbl&gt; | ratio.hoco &lt;dbl&gt; |\n",
       "|---|---|---|---|---|\n",
       "| England  | 120115 | 398264 | 518379 | 0.3015964 |\n",
       "| Scotland |  12335 |  34196 |  46531 | 0.3607147 |\n",
       "\n"
      ],
      "text/plain": [
       "  region   sum.hospital_onset_adm_count sum.community_onset_adm_count\n",
       "1 England  120115                       398264                       \n",
       "2 Scotland  12335                        34196                       \n",
       "  sum.total_covid_adm_count ratio.hoco\n",
       "1 518379                    0.3015964 \n",
       "2  46531                    0.3607147 "
      ]
     },
     "metadata": {},
     "output_type": "display_data"
    }
   ],
   "source": [
    "dt.study_period[\n",
    "    ,\n",
    "    .(\n",
    "        sum.hospital_onset_adm_count = sum(hospital_onset_adm_count), \n",
    "        sum.community_onset_adm_count = sum(community_onset_adm_count),\n",
    "        sum.total_covid_adm_count = sum(total_covid_adm_count),\n",
    "        ratio.hoco = sum(hospital_onset_adm_count) / sum(community_onset_adm_count)\n",
    "    ),\n",
    "    by = \"region\"\n",
    "]"
   ]
  },
  {
   "cell_type": "code",
   "execution_count": 8,
   "metadata": {
    "vscode": {
     "languageId": "r"
    }
   },
   "outputs": [
    {
     "data": {
      "text/html": [
       "<table class=\"dataframe\">\n",
       "<caption>A data.table: 4 × 4</caption>\n",
       "<thead>\n",
       "\t<tr><th scope=col>region</th><th scope=col>testing_stopped</th><th scope=col>sum.hospital_onset_adm_count</th><th scope=col>sum.community_onset_adm_count</th></tr>\n",
       "\t<tr><th scope=col>&lt;fct&gt;</th><th scope=col>&lt;lgl&gt;</th><th scope=col>&lt;dbl&gt;</th><th scope=col>&lt;dbl&gt;</th></tr>\n",
       "</thead>\n",
       "<tbody>\n",
       "\t<tr><td>England </td><td>FALSE</td><td>92982</td><td>344044</td></tr>\n",
       "\t<tr><td>England </td><td> TRUE</td><td>27133</td><td> 54220</td></tr>\n",
       "\t<tr><td>Scotland</td><td>FALSE</td><td>10297</td><td> 31907</td></tr>\n",
       "\t<tr><td>Scotland</td><td> TRUE</td><td> 2038</td><td>  2289</td></tr>\n",
       "</tbody>\n",
       "</table>\n"
      ],
      "text/latex": [
       "A data.table: 4 × 4\n",
       "\\begin{tabular}{llll}\n",
       " region & testing\\_stopped & sum.hospital\\_onset\\_adm\\_count & sum.community\\_onset\\_adm\\_count\\\\\n",
       " <fct> & <lgl> & <dbl> & <dbl>\\\\\n",
       "\\hline\n",
       "\t England  & FALSE & 92982 & 344044\\\\\n",
       "\t England  &  TRUE & 27133 &  54220\\\\\n",
       "\t Scotland & FALSE & 10297 &  31907\\\\\n",
       "\t Scotland &  TRUE &  2038 &   2289\\\\\n",
       "\\end{tabular}\n"
      ],
      "text/markdown": [
       "\n",
       "A data.table: 4 × 4\n",
       "\n",
       "| region &lt;fct&gt; | testing_stopped &lt;lgl&gt; | sum.hospital_onset_adm_count &lt;dbl&gt; | sum.community_onset_adm_count &lt;dbl&gt; |\n",
       "|---|---|---|---|\n",
       "| England  | FALSE | 92982 | 344044 |\n",
       "| England  |  TRUE | 27133 |  54220 |\n",
       "| Scotland | FALSE | 10297 |  31907 |\n",
       "| Scotland |  TRUE |  2038 |   2289 |\n",
       "\n"
      ],
      "text/plain": [
       "  region   testing_stopped sum.hospital_onset_adm_count\n",
       "1 England  FALSE           92982                       \n",
       "2 England   TRUE           27133                       \n",
       "3 Scotland FALSE           10297                       \n",
       "4 Scotland  TRUE            2038                       \n",
       "  sum.community_onset_adm_count\n",
       "1 344044                       \n",
       "2  54220                       \n",
       "3  31907                       \n",
       "4   2289                       "
      ]
     },
     "metadata": {},
     "output_type": "display_data"
    }
   ],
   "source": [
    "dt.study_period[\n",
    "    ,\n",
    "    .(\n",
    "        sum.hospital_onset_adm_count = sum(hospital_onset_adm_count), \n",
    "        sum.community_onset_adm_count = sum(community_onset_adm_count)\n",
    "    ),\n",
    "    by = c(\"region\", \"testing_stopped\")\n",
    "]"
   ]
  },
  {
   "cell_type": "code",
   "execution_count": 9,
   "metadata": {
    "vscode": {
     "languageId": "r"
    }
   },
   "outputs": [
    {
     "data": {
      "text/html": [
       "<table class=\"dataframe\">\n",
       "<caption>A data.table: 6 × 5</caption>\n",
       "<thead>\n",
       "\t<tr><th scope=col>region</th><th scope=col>omicron_dominant</th><th scope=col>testing_stopped</th><th scope=col>mean.hospital_onset_vs_comm_ratio</th><th scope=col>sd.hospital_onset_vs_comm_ratio</th></tr>\n",
       "\t<tr><th scope=col>&lt;fct&gt;</th><th scope=col>&lt;lgl&gt;</th><th scope=col>&lt;lgl&gt;</th><th scope=col>&lt;dbl&gt;</th><th scope=col>&lt;dbl&gt;</th></tr>\n",
       "</thead>\n",
       "<tbody>\n",
       "\t<tr><td>England </td><td>FALSE</td><td>FALSE</td><td>0.12</td><td>0.03</td></tr>\n",
       "\t<tr><td>England </td><td> TRUE</td><td>FALSE</td><td>0.33</td><td>0.04</td></tr>\n",
       "\t<tr><td>England </td><td> TRUE</td><td> TRUE</td><td>0.48</td><td>0.10</td></tr>\n",
       "\t<tr><td>Scotland</td><td>FALSE</td><td>FALSE</td><td>0.11</td><td>0.06</td></tr>\n",
       "\t<tr><td>Scotland</td><td> TRUE</td><td>FALSE</td><td>0.43</td><td>0.10</td></tr>\n",
       "\t<tr><td>Scotland</td><td> TRUE</td><td> TRUE</td><td>0.89</td><td>0.18</td></tr>\n",
       "</tbody>\n",
       "</table>\n"
      ],
      "text/latex": [
       "A data.table: 6 × 5\n",
       "\\begin{tabular}{lllll}\n",
       " region & omicron\\_dominant & testing\\_stopped & mean.hospital\\_onset\\_vs\\_comm\\_ratio & sd.hospital\\_onset\\_vs\\_comm\\_ratio\\\\\n",
       " <fct> & <lgl> & <lgl> & <dbl> & <dbl>\\\\\n",
       "\\hline\n",
       "\t England  & FALSE & FALSE & 0.12 & 0.03\\\\\n",
       "\t England  &  TRUE & FALSE & 0.33 & 0.04\\\\\n",
       "\t England  &  TRUE &  TRUE & 0.48 & 0.10\\\\\n",
       "\t Scotland & FALSE & FALSE & 0.11 & 0.06\\\\\n",
       "\t Scotland &  TRUE & FALSE & 0.43 & 0.10\\\\\n",
       "\t Scotland &  TRUE &  TRUE & 0.89 & 0.18\\\\\n",
       "\\end{tabular}\n"
      ],
      "text/markdown": [
       "\n",
       "A data.table: 6 × 5\n",
       "\n",
       "| region &lt;fct&gt; | omicron_dominant &lt;lgl&gt; | testing_stopped &lt;lgl&gt; | mean.hospital_onset_vs_comm_ratio &lt;dbl&gt; | sd.hospital_onset_vs_comm_ratio &lt;dbl&gt; |\n",
       "|---|---|---|---|---|\n",
       "| England  | FALSE | FALSE | 0.12 | 0.03 |\n",
       "| England  |  TRUE | FALSE | 0.33 | 0.04 |\n",
       "| England  |  TRUE |  TRUE | 0.48 | 0.10 |\n",
       "| Scotland | FALSE | FALSE | 0.11 | 0.06 |\n",
       "| Scotland |  TRUE | FALSE | 0.43 | 0.10 |\n",
       "| Scotland |  TRUE |  TRUE | 0.89 | 0.18 |\n",
       "\n"
      ],
      "text/plain": [
       "  region   omicron_dominant testing_stopped mean.hospital_onset_vs_comm_ratio\n",
       "1 England  FALSE            FALSE           0.12                             \n",
       "2 England   TRUE            FALSE           0.33                             \n",
       "3 England   TRUE             TRUE           0.48                             \n",
       "4 Scotland FALSE            FALSE           0.11                             \n",
       "5 Scotland  TRUE            FALSE           0.43                             \n",
       "6 Scotland  TRUE             TRUE           0.89                             \n",
       "  sd.hospital_onset_vs_comm_ratio\n",
       "1 0.03                           \n",
       "2 0.04                           \n",
       "3 0.10                           \n",
       "4 0.06                           \n",
       "5 0.10                           \n",
       "6 0.18                           "
      ]
     },
     "metadata": {},
     "output_type": "display_data"
    }
   ],
   "source": [
    "dt.study_period[\n",
    "    ,\n",
    "    .(\n",
    "        mean.hospital_onset_vs_comm_ratio = round(mean(hospital_onset_vs_comm_ratio), digits=2), \n",
    "        sd.hospital_onset_vs_comm_ratio = round(sd(hospital_onset_vs_comm_ratio), digits=2)\n",
    "    ),\n",
    "    by = c(\"region\", \"omicron_dominant\", \"testing_stopped\")\n",
    "]"
   ]
  },
  {
   "cell_type": "code",
   "execution_count": 10,
   "metadata": {
    "vscode": {
     "languageId": "r"
    }
   },
   "outputs": [
    {
     "data": {
      "text/html": [
       "<table class=\"dataframe\">\n",
       "<caption>A data.table: 6 × 5</caption>\n",
       "<thead>\n",
       "\t<tr><th scope=col>region</th><th scope=col>omicron_dominant</th><th scope=col>testing_stopped</th><th scope=col>mean.hospital_onset_vs_comm_positives</th><th scope=col>sd.hospital_onset_vs_comm_positives</th></tr>\n",
       "\t<tr><th scope=col>&lt;fct&gt;</th><th scope=col>&lt;lgl&gt;</th><th scope=col>&lt;lgl&gt;</th><th scope=col>&lt;dbl&gt;</th><th scope=col>&lt;dbl&gt;</th></tr>\n",
       "</thead>\n",
       "<tbody>\n",
       "\t<tr><td>England </td><td>FALSE</td><td>FALSE</td><td>0.64</td><td>0.14</td></tr>\n",
       "\t<tr><td>England </td><td> TRUE</td><td>FALSE</td><td>1.00</td><td>0.17</td></tr>\n",
       "\t<tr><td>England </td><td> TRUE</td><td> TRUE</td><td>1.39</td><td>0.34</td></tr>\n",
       "\t<tr><td>Scotland</td><td>FALSE</td><td>FALSE</td><td>0.78</td><td>0.37</td></tr>\n",
       "\t<tr><td>Scotland</td><td> TRUE</td><td>FALSE</td><td>0.99</td><td>0.21</td></tr>\n",
       "\t<tr><td>Scotland</td><td> TRUE</td><td> TRUE</td><td>1.64</td><td>0.37</td></tr>\n",
       "</tbody>\n",
       "</table>\n"
      ],
      "text/latex": [
       "A data.table: 6 × 5\n",
       "\\begin{tabular}{lllll}\n",
       " region & omicron\\_dominant & testing\\_stopped & mean.hospital\\_onset\\_vs\\_comm\\_positives & sd.hospital\\_onset\\_vs\\_comm\\_positives\\\\\n",
       " <fct> & <lgl> & <lgl> & <dbl> & <dbl>\\\\\n",
       "\\hline\n",
       "\t England  & FALSE & FALSE & 0.64 & 0.14\\\\\n",
       "\t England  &  TRUE & FALSE & 1.00 & 0.17\\\\\n",
       "\t England  &  TRUE &  TRUE & 1.39 & 0.34\\\\\n",
       "\t Scotland & FALSE & FALSE & 0.78 & 0.37\\\\\n",
       "\t Scotland &  TRUE & FALSE & 0.99 & 0.21\\\\\n",
       "\t Scotland &  TRUE &  TRUE & 1.64 & 0.37\\\\\n",
       "\\end{tabular}\n"
      ],
      "text/markdown": [
       "\n",
       "A data.table: 6 × 5\n",
       "\n",
       "| region &lt;fct&gt; | omicron_dominant &lt;lgl&gt; | testing_stopped &lt;lgl&gt; | mean.hospital_onset_vs_comm_positives &lt;dbl&gt; | sd.hospital_onset_vs_comm_positives &lt;dbl&gt; |\n",
       "|---|---|---|---|---|\n",
       "| England  | FALSE | FALSE | 0.64 | 0.14 |\n",
       "| England  |  TRUE | FALSE | 1.00 | 0.17 |\n",
       "| England  |  TRUE |  TRUE | 1.39 | 0.34 |\n",
       "| Scotland | FALSE | FALSE | 0.78 | 0.37 |\n",
       "| Scotland |  TRUE | FALSE | 0.99 | 0.21 |\n",
       "| Scotland |  TRUE |  TRUE | 1.64 | 0.37 |\n",
       "\n"
      ],
      "text/plain": [
       "  region   omicron_dominant testing_stopped\n",
       "1 England  FALSE            FALSE          \n",
       "2 England   TRUE            FALSE          \n",
       "3 England   TRUE             TRUE          \n",
       "4 Scotland FALSE            FALSE          \n",
       "5 Scotland  TRUE            FALSE          \n",
       "6 Scotland  TRUE             TRUE          \n",
       "  mean.hospital_onset_vs_comm_positives sd.hospital_onset_vs_comm_positives\n",
       "1 0.64                                  0.14                               \n",
       "2 1.00                                  0.17                               \n",
       "3 1.39                                  0.34                               \n",
       "4 0.78                                  0.37                               \n",
       "5 0.99                                  0.21                               \n",
       "6 1.64                                  0.37                               "
      ]
     },
     "metadata": {},
     "output_type": "display_data"
    }
   ],
   "source": [
    "dt.study_period[\n",
    "    ,\n",
    "    .(\n",
    "        mean.hospital_onset_vs_comm_positives = round(mean(hospital_onset_vs_comm_positives) * 1000, digits=2), \n",
    "        sd.hospital_onset_vs_comm_positives = round(sd(hospital_onset_vs_comm_positives) * 1000, digits=2)\n",
    "    ),\n",
    "    by = c(\"region\", \"omicron_dominant\", \"testing_stopped\")\n",
    "]"
   ]
  }
 ],
 "metadata": {
  "kernelspec": {
   "display_name": "R",
   "language": "R",
   "name": "ir"
  },
  "language_info": {
   "codemirror_mode": "r",
   "file_extension": ".r",
   "mimetype": "text/x-r-source",
   "name": "R",
   "pygments_lexer": "r",
   "version": "4.1.2"
  },
  "orig_nbformat": 4,
  "vscode": {
   "interpreter": {
    "hash": "aee8b7b246df8f9039afb4144a1f6fd8d2ca17a180786b69acc140d282b71a49"
   }
  }
 },
 "nbformat": 4,
 "nbformat_minor": 2
}
